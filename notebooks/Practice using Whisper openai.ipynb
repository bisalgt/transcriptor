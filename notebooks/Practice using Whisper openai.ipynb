{
 "cells": [
  {
   "cell_type": "code",
   "execution_count": 1,
   "id": "e3f99ae5-e268-4267-b7d8-604ef2570f17",
   "metadata": {},
   "outputs": [],
   "source": [
    "import whisper"
   ]
  },
  {
   "cell_type": "code",
   "execution_count": 2,
   "id": "66db2571-cf33-47d9-8841-bf75f474a2c4",
   "metadata": {},
   "outputs": [
    {
     "name": "stderr",
     "output_type": "stream",
     "text": [
      "100%|█████████████████████████████████████| 72.1M/72.1M [00:02<00:00, 33.0MiB/s]\n"
     ]
    }
   ],
   "source": [
    "model = whisper.load_model(\"tiny\")"
   ]
  },
  {
   "cell_type": "raw",
   "id": "428c8273-89b3-4a47-b1fe-9c639d5b0420",
   "metadata": {},
   "source": [
    "# Audio used from https://germanlistening.com\n",
    "https://drive.google.com/file/d/1y9qKgDa85iLiKiEVV2rt7C9K__Rd6L-5/view?usp=share_link"
   ]
  },
  {
   "cell_type": "code",
   "execution_count": 4,
   "id": "5512dd38-a7e0-4ce8-b24c-d806d9d52370",
   "metadata": {},
   "outputs": [
    {
     "name": "stderr",
     "output_type": "stream",
     "text": [
      "/Users/bisalgt/Projects/transcriptor/.env/lib/python3.11/site-packages/whisper/transcribe.py:126: UserWarning: FP16 is not supported on CPU; using FP32 instead\n",
      "  warnings.warn(\"FP16 is not supported on CPU; using FP32 instead\")\n"
     ]
    }
   ],
   "source": [
    "result = model.transcribe(\"germanlistening.com-0636-drei-mahlzeiten.mp3\")"
   ]
  },
  {
   "cell_type": "code",
   "execution_count": 12,
   "id": "6bbdfcc7-85de-4ffe-972c-684c696488e8",
   "metadata": {},
   "outputs": [
    {
     "name": "stdout",
     "output_type": "stream",
     "text": [
      " Dreimal Zeiten. Ich esse jeden Tag dreimal Zeiten. Frühstück, Mittagessen und Abenbrot. Zum Frühstück gibt es Brötchen. Das sind kleine leckere Brote. Ein gutes Brötchen ist ihnen weich und außen knusprich. Für Brötchen gibt es süßen und herzafften Belag. Am liebstenlege ich wust auf mein Brötchen, dazu trinke ich einen Kaffee. Wenn ich es eigentlich habe, gibt es zum Frühstück müslig. Mittagsessen ist es ich warm. Mein Lieblingsessen sind Schnitzel mit Pommes. Schnitzel ist paniertes, gebratenes Fleisch. Manchmal ist es ich vegetarisch. Dann gibt es bei mir Spätzle mit Käse. Spätzle sind dicke Eiernudeln. Sie sind eine Beilage zu vielen deutschen Gerichten. Abends essen ich kalt. Dann gibt es Brote mit Aufschnitt. Aufschnitt ist Käse oder Wurst in Dünnen Scheiben. Diese Beliegtenbrote essen wir mit der Hand. Das Abendessen wird in manchen Gegenden auch beurteit genannt. Ich wünsche guten Appetit beim Essen.\n"
     ]
    }
   ],
   "source": [
    "print(result[\"text\"])"
   ]
  },
  {
   "cell_type": "code",
   "execution_count": 2,
   "id": "ca8d044a-acd8-4d15-a014-b5c0eeef1703",
   "metadata": {},
   "outputs": [
    {
     "name": "stderr",
     "output_type": "stream",
     "text": [
      "100%|█████████████████████████████████████| 1.51G/1.51G [00:47<00:00, 34.0MiB/s]\n"
     ]
    },
    {
     "name": "stdout",
     "output_type": "stream",
     "text": [
      "Detected language: de\n",
      "Drei Mahlzeiten Ich esse jeden Tag drei Mahlzeiten. Frühstück, Mittagessen und Abendbrot. Zum Frühstück gibt es Brötchen. Das sind kleine, leckere Brote. Ein gutes Brötchen ist innen weich und außen knusprig. Für Brötchen gibt es süßen und herzhaften Belag. Am liebsten lege ich Wurst auf mein Brötchen. Dazu trinke ich einen Kaffee.\n"
     ]
    }
   ],
   "source": [
    "# Understand different Model\n",
    "\n",
    "import whisper\n",
    "\n",
    "model = whisper.load_model(\"turbo\")\n",
    "\n",
    "# load audio and pad/trim it to fit 30 seconds\n",
    "audio = whisper.load_audio(\"germanlistening.com-0636-drei-mahlzeiten.mp3\")\n",
    "audio = whisper.pad_or_trim(audio)\n",
    "\n",
    "# make log-Mel spectrogram and move to the same device as the model\n",
    "mel = whisper.log_mel_spectrogram(audio, n_mels=model.dims.n_mels).to(model.device)\n",
    "\n",
    "# detect the spoken language\n",
    "_, probs = model.detect_language(mel)\n",
    "print(f\"Detected language: {max(probs, key=probs.get)}\")\n",
    "\n",
    "# decode the audio\n",
    "options = whisper.DecodingOptions()\n",
    "result = whisper.decode(model, mel, options)\n",
    "\n",
    "# print the recognized text\n",
    "print(result.text)"
   ]
  },
  {
   "cell_type": "code",
   "execution_count": 4,
   "id": "1dad39cf-ef80-4dcb-a422-febee8e930b8",
   "metadata": {},
   "outputs": [
    {
     "data": {
      "text/plain": [
       "DecodingResult(audio_features=tensor([[-0.2087,  0.5269, -0.1047,  ...,  0.2798, -0.1855, -0.0348],\n",
       "        [-0.4358, -0.1672, -0.0083,  ..., -0.0225, -0.0617,  0.1930],\n",
       "        [-0.3411,  0.3621,  0.0529,  ...,  0.0806,  0.2471,  0.0099],\n",
       "        ...,\n",
       "        [-0.3105, -0.3289, -0.3823,  ..., -0.1144, -0.0970,  0.1256],\n",
       "        [-0.2551, -0.0681,  0.1511,  ...,  0.0027, -0.1447,  0.2852],\n",
       "        [-0.3113,  0.4243, -0.2703,  ..., -0.3364,  0.6040,  0.2296]],\n",
       "       dtype=torch.float16), language='de', language_probs=None, tokens=[50365, 413, 10271, 10104, 75, 1381, 6009, 50462, 50462, 3141, 6755, 12906, 11204, 16809, 10104, 75, 1381, 6009, 13, 50613, 50643, 47400, 372, 6536, 11, 18784, 559, 12431, 674, 36194, 1443, 310, 13, 50782, 50822, 23906, 47400, 372, 6536, 6089, 785, 1603, 12082, 2470, 13, 50929, 50965, 2846, 3290, 22278, 11, 476, 547, 323, 1603, 1370, 13, 51059, 51108, 6391, 45859, 1603, 12082, 2470, 1418, 294, 2866, 321, 480, 674, 1609, 8989, 444, 301, 1424, 328, 13, 51285, 51332, 14990, 1603, 12082, 2470, 6089, 785, 21218, 8989, 674, 720, 89, 1641, 14513, 6248, 559, 13, 51506, 51540, 2012, 4544, 65, 6266, 476, 432, 1893, 343, 48273, 2501, 10777, 1603, 12082, 2470, 13, 51653, 51685, 34667, 504, 259, 330, 1893, 4891, 591, 2518, 1653, 13, 51794, 51812], text='Drei Mahlzeiten Ich esse jeden Tag drei Mahlzeiten. Frühstück, Mittagessen und Abendbrot. Zum Frühstück gibt es Brötchen. Das sind kleine, leckere Brote. Ein gutes Brötchen ist innen weich und außen knusprig. Für Brötchen gibt es süßen und herzhaften Belag. Am liebsten lege ich Wurst auf mein Brötchen. Dazu trinke ich einen Kaffee.', avg_logprob=-0.13535759392685778, no_speech_prob=5.32265507710572e-12, temperature=0.0, compression_ratio=1.547085201793722)"
      ]
     },
     "execution_count": 4,
     "metadata": {},
     "output_type": "execute_result"
    }
   ],
   "source": [
    "result"
   ]
  },
  {
   "cell_type": "code",
   "execution_count": 6,
   "id": "fc4b5f5d-a598-4d33-a87c-62674e6b5e2c",
   "metadata": {},
   "outputs": [
    {
     "name": "stderr",
     "output_type": "stream",
     "text": [
      "/Users/bisalgt/Projects/transcriptor/.env/lib/python3.11/site-packages/whisper/transcribe.py:126: UserWarning: FP16 is not supported on CPU; using FP32 instead\n",
      "  warnings.warn(\"FP16 is not supported on CPU; using FP32 instead\")\n"
     ]
    },
    {
     "name": "stdout",
     "output_type": "stream",
     "text": [
      " Drei Mahlzeiten Ich esse jeden Tag drei Mahlzeiten. Frühstück, Mittagessen und Abendbrot. Zum Frühstück gibt es Brötchen. Das sind kleine, leckere Brote. Ein gutes Brötchen ist innen weich und außen knusprig. Für Brötchen gibt es süßen und herzhaften Belag. Am liebsten lege ich Wurst auf mein Brötchen. Dazu trinke ich einen Kaffee. Wenn ich es eilig habe, gibt es zum Frühstück Müsli. Mittags esse ich warm. Mein Lieblingsessen sind Schnitzel mit Pommes. Schnitzel ist paniertes, gebratenes Fleisch. Manchmal esse ich vegetarisch. Dann gibt es bei mir Spätzle mit Käse. Spätzle sind dicke Eiernudeln. Sie sind eine Beilage zu vielen deutschen Gerichten. Abends esse ich kalt. Dann gibt es Brote mit Aufschnitt. Aufschnitt ist Käse oder Wurst in dünnen Scheiben. Diese belegten Brote essen wir mit der Hand. Das Abendessen wird in manchen Gegenden auch Brotzeit genannt. Ich wünsche guten Appetit beim Essen.\n"
     ]
    }
   ],
   "source": [
    "# Using Turbo model full output\n",
    "\n",
    "import whisper\n",
    "\n",
    "model = whisper.load_model(\"turbo\")\n",
    "result = model.transcribe(\"germanlistening.com-0636-drei-mahlzeiten.mp3\")\n",
    "print(result[\"text\"])"
   ]
  },
  {
   "cell_type": "code",
   "execution_count": 18,
   "id": "2dd92ff0-b5ad-4424-bc0e-126b4d5f86c5",
   "metadata": {},
   "outputs": [
    {
     "name": "stdout",
     "output_type": "stream",
     "text": [
      " Three meals I eat three meals a day. Breakfast, lunch and dinner. I have bread rolls for breakfast. These are small, tasty loaves of bread. A good bread roll is soft on the inside and crispy on the outside. There are sweet and savory toppings for rolls. I prefer to put sausage on my roll. I drink a coffee with it. If I'm in a hurry, I have muesli for breakfast. I eat warm for lunch. My favorite meal is schnitzel with chips. Schnitzel is breaded, fried meat. Sometimes I eat vegetarian. Then I have spaetzle with cheese. Spätzle are thick egg noodles. They are a side dish with many German dishes. I eat cold in the evening. Then I have bread with cold cuts. Cold cuts are thin slices of cheese or sausage. We eat these sandwiches by hand. Dinner is also called a snack in some areas. I hope you enjoy your meal.\n"
     ]
    }
   ],
   "source": [
    "# Trying DeepL translation\n",
    "import deepl\n",
    "\n",
    "deepl_apikey_filepath = \"./deepl_apikey.txt\"\n",
    "\n",
    "with open(api_filepath, \"r\") as rf:\n",
    "    deepl_apikey = rf.readline() # reading first line which contains apikey\n",
    "\n",
    "deepl_client = deepl.DeepLClient(deepl_apikey)\n",
    "\n",
    "translated_eng_txt = deepl_client.translate_text(result[\"text\"], target_lang=\"EN-US\")\n",
    "\n",
    "print(translated_eng_txt.text)\n"
   ]
  },
  {
   "cell_type": "code",
   "execution_count": 21,
   "id": "2b42e6a2-6363-4b6e-aa70-0c8fe012c35c",
   "metadata": {},
   "outputs": [
    {
     "data": {
      "text/plain": [
       "['__class__',\n",
       " '__delattr__',\n",
       " '__dict__',\n",
       " '__dir__',\n",
       " '__doc__',\n",
       " '__eq__',\n",
       " '__format__',\n",
       " '__ge__',\n",
       " '__getattribute__',\n",
       " '__getstate__',\n",
       " '__gt__',\n",
       " '__hash__',\n",
       " '__init__',\n",
       " '__init_subclass__',\n",
       " '__le__',\n",
       " '__lt__',\n",
       " '__module__',\n",
       " '__ne__',\n",
       " '__new__',\n",
       " '__reduce__',\n",
       " '__reduce_ex__',\n",
       " '__repr__',\n",
       " '__setattr__',\n",
       " '__sizeof__',\n",
       " '__str__',\n",
       " '__subclasshook__',\n",
       " '__weakref__',\n",
       " 'billed_characters',\n",
       " 'detected_source_lang',\n",
       " 'model_type_used',\n",
       " 'text']"
      ]
     },
     "execution_count": 21,
     "metadata": {},
     "output_type": "execute_result"
    }
   ],
   "source": [
    "dir(translated_eng_txt)"
   ]
  },
  {
   "cell_type": "code",
   "execution_count": 22,
   "id": "051d39b2-954e-4032-90a0-4a11d134e7c4",
   "metadata": {},
   "outputs": [
    {
     "data": {
      "text/plain": [
       "\" Three meals I eat three meals a day. Breakfast, lunch and dinner. I have bread rolls for breakfast. These are small, tasty loaves of bread. A good bread roll is soft on the inside and crispy on the outside. There are sweet and savory toppings for rolls. I prefer to put sausage on my roll. I drink a coffee with it. If I'm in a hurry, I have muesli for breakfast. I eat warm for lunch. My favorite meal is schnitzel with chips. Schnitzel is breaded, fried meat. Sometimes I eat vegetarian. Then I have spaetzle with cheese. Spätzle are thick egg noodles. They are a side dish with many German dishes. I eat cold in the evening. Then I have bread with cold cuts. Cold cuts are thin slices of cheese or sausage. We eat these sandwiches by hand. Dinner is also called a snack in some areas. I hope you enjoy your meal.\""
      ]
     },
     "execution_count": 22,
     "metadata": {},
     "output_type": "execute_result"
    }
   ],
   "source": [
    "translated_eng_txt.text"
   ]
  },
  {
   "cell_type": "code",
   "execution_count": 25,
   "id": "9c4737a5-9d32-4a42-b3cc-e4e558e74285",
   "metadata": {},
   "outputs": [
    {
     "name": "stdout",
     "output_type": "stream",
     "text": [
      "DE\n"
     ]
    }
   ],
   "source": [
    "print(translated_eng_txt.detected_source_lang)"
   ]
  },
  {
   "cell_type": "code",
   "execution_count": 26,
   "id": "60c85736-0ec4-41a1-8f15-4810d6528cf7",
   "metadata": {},
   "outputs": [
    {
     "name": "stdout",
     "output_type": "stream",
     "text": [
      "910\n"
     ]
    }
   ],
   "source": [
    "print(translated_eng_txt.billed_characters)"
   ]
  },
  {
   "cell_type": "code",
   "execution_count": 44,
   "id": "299587e9-f1a1-42d1-8b13-ce5fe967d2cb",
   "metadata": {},
   "outputs": [
    {
     "data": {
      "text/plain": [
       "910"
      ]
     },
     "execution_count": 44,
     "metadata": {},
     "output_type": "execute_result"
    }
   ],
   "source": [
    "# str.count()\n",
    "de_result = result[\"text\"]\n",
    "de_result_list = de_result.split(\" \")\n",
    "len(de_result_list)\n",
    "len(de_result)"
   ]
  },
  {
   "cell_type": "code",
   "execution_count": 59,
   "id": "8b2b682f-f8bc-4d41-870f-a2b7103c10f6",
   "metadata": {},
   "outputs": [
    {
     "name": "stdout",
     "output_type": "stream",
     "text": [
      "['Rushed action.', 'Urgency.', 'An incidence of a defensive player forcing the quarterback to act faster than the quarterback was prepared to, resulting in a failed offensive play.', 'A tremolando passage for violins, etc., accompanying an exciting situation.']\n"
     ]
    }
   ],
   "source": [
    "# Using FreeDictionary API\n",
    "\n",
    "import requests\n",
    "\n",
    "word = \"hurry\"\n",
    "url = f\"https://api.dictionaryapi.dev/api/v2/entries/en/{word}\"\n",
    "response = requests.get(url)\n",
    "\n",
    "if response.status_code == 200:\n",
    "    data = response.json()\n",
    "    # print(data)\n",
    "    definitions_list = data[0][\"meanings\"][0][\"definitions\"]\n",
    "    # print(len(definitions_list))\n",
    "    definitions_list = [i[\"definition\"] for i in definitions_list]\n",
    "    print(definitions_list)\n",
    "    # print(data[0][\"meanings\"][0][\"definitions\"][0][\"definition\"])\n",
    "else:\n",
    "    print(\"Word not found.\")"
   ]
  },
  {
   "cell_type": "code",
   "execution_count": null,
   "id": "d3738916-97d8-4962-ae0e-ddba5fd26952",
   "metadata": {},
   "outputs": [],
   "source": []
  }
 ],
 "metadata": {
  "kernelspec": {
   "display_name": "Python 3 (ipykernel)",
   "language": "python",
   "name": "python3"
  },
  "language_info": {
   "codemirror_mode": {
    "name": "ipython",
    "version": 3
   },
   "file_extension": ".py",
   "mimetype": "text/x-python",
   "name": "python",
   "nbconvert_exporter": "python",
   "pygments_lexer": "ipython3",
   "version": "3.11.6"
  }
 },
 "nbformat": 4,
 "nbformat_minor": 5
}
