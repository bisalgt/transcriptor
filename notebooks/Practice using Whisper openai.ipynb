{
 "cells": [
  {
   "cell_type": "code",
   "execution_count": 1,
   "id": "e3f99ae5-e268-4267-b7d8-604ef2570f17",
   "metadata": {},
   "outputs": [],
   "source": [
    "import whisper"
   ]
  },
  {
   "cell_type": "code",
   "execution_count": 2,
   "id": "66db2571-cf33-47d9-8841-bf75f474a2c4",
   "metadata": {},
   "outputs": [
    {
     "name": "stderr",
     "output_type": "stream",
     "text": [
      "100%|█████████████████████████████████████| 72.1M/72.1M [00:02<00:00, 33.0MiB/s]\n"
     ]
    }
   ],
   "source": [
    "model = whisper.load_model(\"tiny\")"
   ]
  },
  {
   "cell_type": "raw",
   "id": "428c8273-89b3-4a47-b1fe-9c639d5b0420",
   "metadata": {},
   "source": [
    "# Audio used from https://germanlistening.com\n",
    "https://drive.google.com/file/d/1y9qKgDa85iLiKiEVV2rt7C9K__Rd6L-5/view?usp=share_link"
   ]
  },
  {
   "cell_type": "code",
   "execution_count": 4,
   "id": "5512dd38-a7e0-4ce8-b24c-d806d9d52370",
   "metadata": {},
   "outputs": [
    {
     "name": "stderr",
     "output_type": "stream",
     "text": [
      "/Users/bisalgt/Projects/transcriptor/.env/lib/python3.11/site-packages/whisper/transcribe.py:126: UserWarning: FP16 is not supported on CPU; using FP32 instead\n",
      "  warnings.warn(\"FP16 is not supported on CPU; using FP32 instead\")\n"
     ]
    }
   ],
   "source": [
    "result = model.transcribe(\"germanlistening.com-0636-drei-mahlzeiten.mp3\")"
   ]
  },
  {
   "cell_type": "code",
   "execution_count": 12,
   "id": "6bbdfcc7-85de-4ffe-972c-684c696488e8",
   "metadata": {},
   "outputs": [
    {
     "name": "stdout",
     "output_type": "stream",
     "text": [
      " Dreimal Zeiten. Ich esse jeden Tag dreimal Zeiten. Frühstück, Mittagessen und Abenbrot. Zum Frühstück gibt es Brötchen. Das sind kleine leckere Brote. Ein gutes Brötchen ist ihnen weich und außen knusprich. Für Brötchen gibt es süßen und herzafften Belag. Am liebstenlege ich wust auf mein Brötchen, dazu trinke ich einen Kaffee. Wenn ich es eigentlich habe, gibt es zum Frühstück müslig. Mittagsessen ist es ich warm. Mein Lieblingsessen sind Schnitzel mit Pommes. Schnitzel ist paniertes, gebratenes Fleisch. Manchmal ist es ich vegetarisch. Dann gibt es bei mir Spätzle mit Käse. Spätzle sind dicke Eiernudeln. Sie sind eine Beilage zu vielen deutschen Gerichten. Abends essen ich kalt. Dann gibt es Brote mit Aufschnitt. Aufschnitt ist Käse oder Wurst in Dünnen Scheiben. Diese Beliegtenbrote essen wir mit der Hand. Das Abendessen wird in manchen Gegenden auch beurteit genannt. Ich wünsche guten Appetit beim Essen.\n"
     ]
    }
   ],
   "source": [
    "print(result[\"text\"])"
   ]
  },
  {
   "cell_type": "code",
   "execution_count": null,
   "id": "ca8d044a-acd8-4d15-a014-b5c0eeef1703",
   "metadata": {},
   "outputs": [],
   "source": []
  },
  {
   "cell_type": "code",
   "execution_count": null,
   "id": "1dad39cf-ef80-4dcb-a422-febee8e930b8",
   "metadata": {},
   "outputs": [],
   "source": []
  }
 ],
 "metadata": {
  "kernelspec": {
   "display_name": "Python 3 (ipykernel)",
   "language": "python",
   "name": "python3"
  },
  "language_info": {
   "codemirror_mode": {
    "name": "ipython",
    "version": 3
   },
   "file_extension": ".py",
   "mimetype": "text/x-python",
   "name": "python",
   "nbconvert_exporter": "python",
   "pygments_lexer": "ipython3",
   "version": "3.11.6"
  }
 },
 "nbformat": 4,
 "nbformat_minor": 5
}
