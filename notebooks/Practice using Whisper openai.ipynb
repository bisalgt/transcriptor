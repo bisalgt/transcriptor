{
 "cells": [
  {
   "cell_type": "code",
   "execution_count": 1,
   "id": "e3f99ae5-e268-4267-b7d8-604ef2570f17",
   "metadata": {},
   "outputs": [],
   "source": [
    "import whisper"
   ]
  },
  {
   "cell_type": "code",
   "execution_count": 2,
   "id": "66db2571-cf33-47d9-8841-bf75f474a2c4",
   "metadata": {},
   "outputs": [
    {
     "name": "stderr",
     "output_type": "stream",
     "text": [
      "100%|█████████████████████████████████████| 72.1M/72.1M [00:02<00:00, 33.0MiB/s]\n"
     ]
    }
   ],
   "source": [
    "model = whisper.load_model(\"tiny\")"
   ]
  },
  {
   "cell_type": "raw",
   "id": "428c8273-89b3-4a47-b1fe-9c639d5b0420",
   "metadata": {},
   "source": [
    "# Audio used from https://germanlistening.com\n",
    "https://drive.google.com/file/d/1y9qKgDa85iLiKiEVV2rt7C9K__Rd6L-5/view?usp=share_link"
   ]
  },
  {
   "cell_type": "code",
   "execution_count": 4,
   "id": "5512dd38-a7e0-4ce8-b24c-d806d9d52370",
   "metadata": {},
   "outputs": [
    {
     "name": "stderr",
     "output_type": "stream",
     "text": [
      "/Users/bisalgt/Projects/transcriptor/.env/lib/python3.11/site-packages/whisper/transcribe.py:126: UserWarning: FP16 is not supported on CPU; using FP32 instead\n",
      "  warnings.warn(\"FP16 is not supported on CPU; using FP32 instead\")\n"
     ]
    }
   ],
   "source": [
    "result = model.transcribe(\"germanlistening.com-0636-drei-mahlzeiten.mp3\")"
   ]
  },
  {
   "cell_type": "code",
   "execution_count": 12,
   "id": "6bbdfcc7-85de-4ffe-972c-684c696488e8",
   "metadata": {},
   "outputs": [
    {
     "name": "stdout",
     "output_type": "stream",
     "text": [
      " Dreimal Zeiten. Ich esse jeden Tag dreimal Zeiten. Frühstück, Mittagessen und Abenbrot. Zum Frühstück gibt es Brötchen. Das sind kleine leckere Brote. Ein gutes Brötchen ist ihnen weich und außen knusprich. Für Brötchen gibt es süßen und herzafften Belag. Am liebstenlege ich wust auf mein Brötchen, dazu trinke ich einen Kaffee. Wenn ich es eigentlich habe, gibt es zum Frühstück müslig. Mittagsessen ist es ich warm. Mein Lieblingsessen sind Schnitzel mit Pommes. Schnitzel ist paniertes, gebratenes Fleisch. Manchmal ist es ich vegetarisch. Dann gibt es bei mir Spätzle mit Käse. Spätzle sind dicke Eiernudeln. Sie sind eine Beilage zu vielen deutschen Gerichten. Abends essen ich kalt. Dann gibt es Brote mit Aufschnitt. Aufschnitt ist Käse oder Wurst in Dünnen Scheiben. Diese Beliegtenbrote essen wir mit der Hand. Das Abendessen wird in manchen Gegenden auch beurteit genannt. Ich wünsche guten Appetit beim Essen.\n"
     ]
    }
   ],
   "source": [
    "print(result[\"text\"])"
   ]
  },
  {
   "cell_type": "code",
   "execution_count": 2,
   "id": "ca8d044a-acd8-4d15-a014-b5c0eeef1703",
   "metadata": {},
   "outputs": [
    {
     "name": "stderr",
     "output_type": "stream",
     "text": [
      "100%|█████████████████████████████████████| 1.51G/1.51G [00:47<00:00, 34.0MiB/s]\n"
     ]
    },
    {
     "name": "stdout",
     "output_type": "stream",
     "text": [
      "Detected language: de\n",
      "Drei Mahlzeiten Ich esse jeden Tag drei Mahlzeiten. Frühstück, Mittagessen und Abendbrot. Zum Frühstück gibt es Brötchen. Das sind kleine, leckere Brote. Ein gutes Brötchen ist innen weich und außen knusprig. Für Brötchen gibt es süßen und herzhaften Belag. Am liebsten lege ich Wurst auf mein Brötchen. Dazu trinke ich einen Kaffee.\n"
     ]
    }
   ],
   "source": [
    "# Understand different Model\n",
    "\n",
    "import whisper\n",
    "\n",
    "model = whisper.load_model(\"turbo\")\n",
    "\n",
    "# load audio and pad/trim it to fit 30 seconds\n",
    "audio = whisper.load_audio(\"germanlistening.com-0636-drei-mahlzeiten.mp3\")\n",
    "audio = whisper.pad_or_trim(audio)\n",
    "\n",
    "# make log-Mel spectrogram and move to the same device as the model\n",
    "mel = whisper.log_mel_spectrogram(audio, n_mels=model.dims.n_mels).to(model.device)\n",
    "\n",
    "# detect the spoken language\n",
    "_, probs = model.detect_language(mel)\n",
    "print(f\"Detected language: {max(probs, key=probs.get)}\")\n",
    "\n",
    "# decode the audio\n",
    "options = whisper.DecodingOptions()\n",
    "result = whisper.decode(model, mel, options)\n",
    "\n",
    "# print the recognized text\n",
    "print(result.text)"
   ]
  },
  {
   "cell_type": "code",
   "execution_count": 4,
   "id": "1dad39cf-ef80-4dcb-a422-febee8e930b8",
   "metadata": {},
   "outputs": [
    {
     "data": {
      "text/plain": [
       "DecodingResult(audio_features=tensor([[-0.2087,  0.5269, -0.1047,  ...,  0.2798, -0.1855, -0.0348],\n",
       "        [-0.4358, -0.1672, -0.0083,  ..., -0.0225, -0.0617,  0.1930],\n",
       "        [-0.3411,  0.3621,  0.0529,  ...,  0.0806,  0.2471,  0.0099],\n",
       "        ...,\n",
       "        [-0.3105, -0.3289, -0.3823,  ..., -0.1144, -0.0970,  0.1256],\n",
       "        [-0.2551, -0.0681,  0.1511,  ...,  0.0027, -0.1447,  0.2852],\n",
       "        [-0.3113,  0.4243, -0.2703,  ..., -0.3364,  0.6040,  0.2296]],\n",
       "       dtype=torch.float16), language='de', language_probs=None, tokens=[50365, 413, 10271, 10104, 75, 1381, 6009, 50462, 50462, 3141, 6755, 12906, 11204, 16809, 10104, 75, 1381, 6009, 13, 50613, 50643, 47400, 372, 6536, 11, 18784, 559, 12431, 674, 36194, 1443, 310, 13, 50782, 50822, 23906, 47400, 372, 6536, 6089, 785, 1603, 12082, 2470, 13, 50929, 50965, 2846, 3290, 22278, 11, 476, 547, 323, 1603, 1370, 13, 51059, 51108, 6391, 45859, 1603, 12082, 2470, 1418, 294, 2866, 321, 480, 674, 1609, 8989, 444, 301, 1424, 328, 13, 51285, 51332, 14990, 1603, 12082, 2470, 6089, 785, 21218, 8989, 674, 720, 89, 1641, 14513, 6248, 559, 13, 51506, 51540, 2012, 4544, 65, 6266, 476, 432, 1893, 343, 48273, 2501, 10777, 1603, 12082, 2470, 13, 51653, 51685, 34667, 504, 259, 330, 1893, 4891, 591, 2518, 1653, 13, 51794, 51812], text='Drei Mahlzeiten Ich esse jeden Tag drei Mahlzeiten. Frühstück, Mittagessen und Abendbrot. Zum Frühstück gibt es Brötchen. Das sind kleine, leckere Brote. Ein gutes Brötchen ist innen weich und außen knusprig. Für Brötchen gibt es süßen und herzhaften Belag. Am liebsten lege ich Wurst auf mein Brötchen. Dazu trinke ich einen Kaffee.', avg_logprob=-0.13535759392685778, no_speech_prob=5.32265507710572e-12, temperature=0.0, compression_ratio=1.547085201793722)"
      ]
     },
     "execution_count": 4,
     "metadata": {},
     "output_type": "execute_result"
    }
   ],
   "source": [
    "result"
   ]
  },
  {
   "cell_type": "code",
   "execution_count": 6,
   "id": "fc4b5f5d-a598-4d33-a87c-62674e6b5e2c",
   "metadata": {},
   "outputs": [
    {
     "name": "stderr",
     "output_type": "stream",
     "text": [
      "/Users/bisalgt/Projects/transcriptor/.env/lib/python3.11/site-packages/whisper/transcribe.py:126: UserWarning: FP16 is not supported on CPU; using FP32 instead\n",
      "  warnings.warn(\"FP16 is not supported on CPU; using FP32 instead\")\n"
     ]
    },
    {
     "name": "stdout",
     "output_type": "stream",
     "text": [
      " Drei Mahlzeiten Ich esse jeden Tag drei Mahlzeiten. Frühstück, Mittagessen und Abendbrot. Zum Frühstück gibt es Brötchen. Das sind kleine, leckere Brote. Ein gutes Brötchen ist innen weich und außen knusprig. Für Brötchen gibt es süßen und herzhaften Belag. Am liebsten lege ich Wurst auf mein Brötchen. Dazu trinke ich einen Kaffee. Wenn ich es eilig habe, gibt es zum Frühstück Müsli. Mittags esse ich warm. Mein Lieblingsessen sind Schnitzel mit Pommes. Schnitzel ist paniertes, gebratenes Fleisch. Manchmal esse ich vegetarisch. Dann gibt es bei mir Spätzle mit Käse. Spätzle sind dicke Eiernudeln. Sie sind eine Beilage zu vielen deutschen Gerichten. Abends esse ich kalt. Dann gibt es Brote mit Aufschnitt. Aufschnitt ist Käse oder Wurst in dünnen Scheiben. Diese belegten Brote essen wir mit der Hand. Das Abendessen wird in manchen Gegenden auch Brotzeit genannt. Ich wünsche guten Appetit beim Essen.\n"
     ]
    }
   ],
   "source": [
    "# Using Turbo model full output\n",
    "\n",
    "import whisper\n",
    "\n",
    "model = whisper.load_model(\"turbo\")\n",
    "result = model.transcribe(\"germanlistening.com-0636-drei-mahlzeiten.mp3\")\n",
    "print(result[\"text\"])"
   ]
  },
  {
   "cell_type": "code",
   "execution_count": 18,
   "id": "2dd92ff0-b5ad-4424-bc0e-126b4d5f86c5",
   "metadata": {},
   "outputs": [
    {
     "name": "stdout",
     "output_type": "stream",
     "text": [
      " Three meals I eat three meals a day. Breakfast, lunch and dinner. I have bread rolls for breakfast. These are small, tasty loaves of bread. A good bread roll is soft on the inside and crispy on the outside. There are sweet and savory toppings for rolls. I prefer to put sausage on my roll. I drink a coffee with it. If I'm in a hurry, I have muesli for breakfast. I eat warm for lunch. My favorite meal is schnitzel with chips. Schnitzel is breaded, fried meat. Sometimes I eat vegetarian. Then I have spaetzle with cheese. Spätzle are thick egg noodles. They are a side dish with many German dishes. I eat cold in the evening. Then I have bread with cold cuts. Cold cuts are thin slices of cheese or sausage. We eat these sandwiches by hand. Dinner is also called a snack in some areas. I hope you enjoy your meal.\n"
     ]
    }
   ],
   "source": [
    "# Trying DeepL translation\n",
    "import deepl\n",
    "\n",
    "deepl_apikey_filepath = \"./deepl_apikey.txt\"\n",
    "\n",
    "with open(api_filepath, \"r\") as rf:\n",
    "    deepl_apikey = rf.readline() # reading first line which contains apikey\n",
    "\n",
    "deepl_client = deepl.DeepLClient(deepl_apikey)\n",
    "\n",
    "translated_eng_txt = deepl_client.translate_text(result[\"text\"], target_lang=\"EN-US\")\n",
    "\n",
    "print(translated_eng_txt.text)\n"
   ]
  },
  {
   "cell_type": "code",
   "execution_count": 21,
   "id": "2b42e6a2-6363-4b6e-aa70-0c8fe012c35c",
   "metadata": {},
   "outputs": [
    {
     "data": {
      "text/plain": [
       "['__class__',\n",
       " '__delattr__',\n",
       " '__dict__',\n",
       " '__dir__',\n",
       " '__doc__',\n",
       " '__eq__',\n",
       " '__format__',\n",
       " '__ge__',\n",
       " '__getattribute__',\n",
       " '__getstate__',\n",
       " '__gt__',\n",
       " '__hash__',\n",
       " '__init__',\n",
       " '__init_subclass__',\n",
       " '__le__',\n",
       " '__lt__',\n",
       " '__module__',\n",
       " '__ne__',\n",
       " '__new__',\n",
       " '__reduce__',\n",
       " '__reduce_ex__',\n",
       " '__repr__',\n",
       " '__setattr__',\n",
       " '__sizeof__',\n",
       " '__str__',\n",
       " '__subclasshook__',\n",
       " '__weakref__',\n",
       " 'billed_characters',\n",
       " 'detected_source_lang',\n",
       " 'model_type_used',\n",
       " 'text']"
      ]
     },
     "execution_count": 21,
     "metadata": {},
     "output_type": "execute_result"
    }
   ],
   "source": [
    "dir(translated_eng_txt)"
   ]
  },
  {
   "cell_type": "code",
   "execution_count": 22,
   "id": "051d39b2-954e-4032-90a0-4a11d134e7c4",
   "metadata": {},
   "outputs": [
    {
     "data": {
      "text/plain": [
       "\" Three meals I eat three meals a day. Breakfast, lunch and dinner. I have bread rolls for breakfast. These are small, tasty loaves of bread. A good bread roll is soft on the inside and crispy on the outside. There are sweet and savory toppings for rolls. I prefer to put sausage on my roll. I drink a coffee with it. If I'm in a hurry, I have muesli for breakfast. I eat warm for lunch. My favorite meal is schnitzel with chips. Schnitzel is breaded, fried meat. Sometimes I eat vegetarian. Then I have spaetzle with cheese. Spätzle are thick egg noodles. They are a side dish with many German dishes. I eat cold in the evening. Then I have bread with cold cuts. Cold cuts are thin slices of cheese or sausage. We eat these sandwiches by hand. Dinner is also called a snack in some areas. I hope you enjoy your meal.\""
      ]
     },
     "execution_count": 22,
     "metadata": {},
     "output_type": "execute_result"
    }
   ],
   "source": [
    "translated_eng_txt.text"
   ]
  },
  {
   "cell_type": "code",
   "execution_count": 25,
   "id": "9c4737a5-9d32-4a42-b3cc-e4e558e74285",
   "metadata": {},
   "outputs": [
    {
     "name": "stdout",
     "output_type": "stream",
     "text": [
      "DE\n"
     ]
    }
   ],
   "source": [
    "print(translated_eng_txt.detected_source_lang)"
   ]
  },
  {
   "cell_type": "code",
   "execution_count": 26,
   "id": "60c85736-0ec4-41a1-8f15-4810d6528cf7",
   "metadata": {},
   "outputs": [
    {
     "name": "stdout",
     "output_type": "stream",
     "text": [
      "910\n"
     ]
    }
   ],
   "source": [
    "print(translated_eng_txt.billed_characters)"
   ]
  },
  {
   "cell_type": "code",
   "execution_count": 44,
   "id": "299587e9-f1a1-42d1-8b13-ce5fe967d2cb",
   "metadata": {},
   "outputs": [
    {
     "data": {
      "text/plain": [
       "910"
      ]
     },
     "execution_count": 44,
     "metadata": {},
     "output_type": "execute_result"
    }
   ],
   "source": [
    "# str.count()\n",
    "de_result = result[\"text\"]\n",
    "de_result_list = de_result.split(\" \")\n",
    "len(de_result_list)\n",
    "len(de_result)"
   ]
  },
  {
   "cell_type": "code",
   "execution_count": 59,
   "id": "8b2b682f-f8bc-4d41-870f-a2b7103c10f6",
   "metadata": {},
   "outputs": [
    {
     "name": "stdout",
     "output_type": "stream",
     "text": [
      "['Rushed action.', 'Urgency.', 'An incidence of a defensive player forcing the quarterback to act faster than the quarterback was prepared to, resulting in a failed offensive play.', 'A tremolando passage for violins, etc., accompanying an exciting situation.']\n"
     ]
    }
   ],
   "source": [
    "# Using FreeDictionary API\n",
    "\n",
    "import requests\n",
    "\n",
    "word = \"hurry\"\n",
    "url = f\"https://api.dictionaryapi.dev/api/v2/entries/en/{word}\"\n",
    "response = requests.get(url)\n",
    "\n",
    "if response.status_code == 200:\n",
    "    data = response.json()\n",
    "    # print(data)\n",
    "    definitions_list = data[0][\"meanings\"][0][\"definitions\"]\n",
    "    # print(len(definitions_list))\n",
    "    definitions_list = [i[\"definition\"] for i in definitions_list]\n",
    "    print(definitions_list)\n",
    "    # print(data[0][\"meanings\"][0][\"definitions\"][0][\"definition\"])\n",
    "else:\n",
    "    print(\"Word not found.\")"
   ]
  },
  {
   "cell_type": "code",
   "execution_count": 61,
   "id": "d3738916-97d8-4962-ae0e-ddba5fd26952",
   "metadata": {},
   "outputs": [
    {
     "name": "stdout",
     "output_type": "stream",
     "text": [
      "<class 'numpy.ndarray'>\n"
     ]
    }
   ],
   "source": [
    "# Understanding result of whisper\n",
    "\n",
    "\n",
    "import whisper\n",
    "\n",
    "model = whisper.load_model(\"turbo\")\n",
    "\n",
    "# load audio and pad/trim it to fit 30 seconds\n",
    "audio = whisper.load_audio(\"germanlistening.com-0636-drei-mahlzeiten.mp3\")\n",
    "audio = whisper.pad_or_trim(audio,)\n",
    "\n",
    "print(type(audio))\n",
    "\n",
    "# # make log-Mel spectrogram and move to the same device as the model\n",
    "# mel = whisper.log_mel_spectrogram(audio, n_mels=model.dims.n_mels).to(model.device)\n",
    "\n",
    "# # detect the spoken language\n",
    "# _, probs = model.detect_language(mel)\n",
    "# print(f\"Detected language: {max(probs, key=probs.get)}\")\n",
    "\n",
    "# # decode the audio\n",
    "# options = whisper.DecodingOptions()\n",
    "# result = whisper.decode(model, mel, options)\n",
    "\n",
    "# # print the recognized text\n",
    "# print(result.text)\n",
    "\n"
   ]
  },
  {
   "cell_type": "code",
   "execution_count": 1,
   "id": "5f34db45-cf4f-4152-a1b5-64b4f8f867e6",
   "metadata": {},
   "outputs": [
    {
     "name": "stderr",
     "output_type": "stream",
     "text": [
      "[nltk_data] Downloading package vader_lexicon to\n",
      "[nltk_data]     /Users/bisalgt/nltk_data...\n"
     ]
    },
    {
     "data": {
      "text/plain": [
       "True"
      ]
     },
     "execution_count": 1,
     "metadata": {},
     "output_type": "execute_result"
    }
   ],
   "source": [
    "# Understanding nltk\n",
    "\n",
    "import nltk\n",
    "\n",
    "nltk.download(\"vader_lexicon\")\n",
    "\n"
   ]
  },
  {
   "cell_type": "code",
   "execution_count": null,
   "id": "a366701e-0ab9-4c4f-b5af-094045d9ce62",
   "metadata": {},
   "outputs": [],
   "source": []
  },
  {
   "cell_type": "code",
   "execution_count": null,
   "id": "8fac05d1-9646-4290-a54f-1de87ff1274a",
   "metadata": {},
   "outputs": [],
   "source": []
  },
  {
   "cell_type": "code",
   "execution_count": null,
   "id": "b2073954-8fe2-4b63-8101-4b930bbf1174",
   "metadata": {},
   "outputs": [],
   "source": []
  },
  {
   "cell_type": "code",
   "execution_count": 2,
   "id": "47cdc248-ef12-4df7-aa8e-bcebf976174d",
   "metadata": {},
   "outputs": [
    {
     "data": {
      "text/plain": [
       "{'neg': 0.029, 'neu': 0.84, 'pos': 0.131, 'compound': 0.9403}"
      ]
     },
     "execution_count": 2,
     "metadata": {},
     "output_type": "execute_result"
    }
   ],
   "source": [
    "from nltk.sentiment.vader import SentimentIntensityAnalyzer\n",
    "\n",
    "vader = SentimentIntensityAnalyzer() # can use pie chart to show it.\n",
    "\n",
    "sample = \"Three meals I eat three meals a day. Breakfast, lunch and dinner. I have bread rolls for breakfast. These are small, tasty loaves of bread. A good bread roll is soft on the inside and crispy on the outside. There are sweet and savory toppings for rolls. I prefer to put sausage on my roll. I drink a coffee with it. If I'm in a hurry, I have muesli for breakfast. I eat warm for lunch. My favorite meal is schnitzel with chips. Schnitzel is breaded, fried meat. Sometimes I eat vegetarian. Then I have spaetzle with cheese. Spätzle are thick egg noodles. They are a side dish with many German dishes. I eat cold in the evening. Then I have bread with cold cuts. Cold cuts are thin slices of cheese or sausage. We eat these sandwiches by hand. Dinner is also called a snack in some areas. I hope you enjoy your meal.\"\n",
    "\n",
    "vader.polarity_scores(sample)"
   ]
  },
  {
   "cell_type": "code",
   "execution_count": 8,
   "id": "a687cb2a-ffd8-4461-bcc0-baf0b286a2be",
   "metadata": {},
   "outputs": [
    {
     "name": "stderr",
     "output_type": "stream",
     "text": [
      "[nltk_data] Downloading package punkt_tab to\n",
      "[nltk_data]     /Users/bisalgt/nltk_data...\n",
      "[nltk_data]   Package punkt_tab is already up-to-date!\n"
     ]
    }
   ],
   "source": [
    "# Frequency Distribution\n",
    "\n",
    "nltk.download(\"punkt_tab\")\n",
    "words: list[str] = nltk.word_tokenize(sample)\n",
    "words = [word.lower() for word in words if word.isalpha()]\n",
    "fd = nltk.FreqDist(words)"
   ]
  },
  {
   "cell_type": "code",
   "execution_count": 9,
   "id": "0fe77d93-1c4b-4688-9a2f-c4db4ca554fc",
   "metadata": {},
   "outputs": [
    {
     "data": {
      "text/plain": [
       "FreqDist({'i': 12, 'a': 6, 'eat': 5, 'are': 5, 'with': 5, 'have': 4, 'bread': 4, 'for': 4, 'is': 4, 'breakfast': 3, ...})"
      ]
     },
     "execution_count": 9,
     "metadata": {},
     "output_type": "execute_result"
    }
   ],
   "source": [
    "fd"
   ]
  },
  {
   "cell_type": "code",
   "execution_count": 12,
   "id": "e7c72eae-78a9-4c8e-9637-4256a4522dae",
   "metadata": {},
   "outputs": [
    {
     "data": {
      "text/plain": [
       "dict_items([('three', 2), ('meals', 2), ('i', 12), ('eat', 5), ('a', 6), ('day', 1), ('breakfast', 3), ('lunch', 2), ('and', 3), ('dinner', 2), ('have', 4), ('bread', 4), ('rolls', 2), ('for', 4), ('these', 2), ('are', 5), ('small', 1), ('tasty', 1), ('loaves', 1), ('of', 2), ('good', 1), ('roll', 2), ('is', 4), ('soft', 1), ('on', 3), ('the', 3), ('inside', 1), ('crispy', 1), ('outside', 1), ('there', 1), ('sweet', 1), ('savory', 1), ('toppings', 1), ('prefer', 1), ('to', 1), ('put', 1), ('sausage', 2), ('my', 2), ('drink', 1), ('coffee', 1), ('with', 5), ('it', 1), ('if', 1), ('in', 3), ('hurry', 1), ('muesli', 1), ('warm', 1), ('favorite', 1), ('meal', 2), ('schnitzel', 2), ('chips', 1), ('breaded', 1), ('fried', 1), ('meat', 1), ('sometimes', 1), ('vegetarian', 1), ('then', 2), ('spaetzle', 1), ('cheese', 2), ('spätzle', 1), ('thick', 1), ('egg', 1), ('noodles', 1), ('they', 1), ('side', 1), ('dish', 1), ('many', 1), ('german', 1), ('dishes', 1), ('cold', 3), ('evening', 1), ('cuts', 2), ('thin', 1), ('slices', 1), ('or', 1), ('we', 1), ('sandwiches', 1), ('by', 1), ('hand', 1), ('also', 1), ('called', 1), ('snack', 1), ('some', 1), ('areas', 1), ('hope', 1), ('you', 1), ('enjoy', 1), ('your', 1)])"
      ]
     },
     "execution_count": 12,
     "metadata": {},
     "output_type": "execute_result"
    }
   ],
   "source": [
    "fd.items()"
   ]
  },
  {
   "cell_type": "code",
   "execution_count": 13,
   "id": "1fc194d9-7ac1-4760-994d-2ef872bd9e4a",
   "metadata": {},
   "outputs": [],
   "source": [
    "import pandas as pd"
   ]
  },
  {
   "cell_type": "code",
   "execution_count": 16,
   "id": "2d56277c-de06-4744-9c41-42c724a32fac",
   "metadata": {},
   "outputs": [],
   "source": [
    "df = pd.DataFrame(fd.items(), columns=['name', 'count'])"
   ]
  },
  {
   "cell_type": "code",
   "execution_count": 17,
   "id": "eccb1a2f-bbd0-4a8b-b0a8-f1efd8ba94a1",
   "metadata": {},
   "outputs": [
    {
     "data": {
      "text/html": [
       "<div>\n",
       "<style scoped>\n",
       "    .dataframe tbody tr th:only-of-type {\n",
       "        vertical-align: middle;\n",
       "    }\n",
       "\n",
       "    .dataframe tbody tr th {\n",
       "        vertical-align: top;\n",
       "    }\n",
       "\n",
       "    .dataframe thead th {\n",
       "        text-align: right;\n",
       "    }\n",
       "</style>\n",
       "<table border=\"1\" class=\"dataframe\">\n",
       "  <thead>\n",
       "    <tr style=\"text-align: right;\">\n",
       "      <th></th>\n",
       "      <th>name</th>\n",
       "      <th>count</th>\n",
       "    </tr>\n",
       "  </thead>\n",
       "  <tbody>\n",
       "    <tr>\n",
       "      <th>0</th>\n",
       "      <td>three</td>\n",
       "      <td>2</td>\n",
       "    </tr>\n",
       "    <tr>\n",
       "      <th>1</th>\n",
       "      <td>meals</td>\n",
       "      <td>2</td>\n",
       "    </tr>\n",
       "    <tr>\n",
       "      <th>2</th>\n",
       "      <td>i</td>\n",
       "      <td>12</td>\n",
       "    </tr>\n",
       "    <tr>\n",
       "      <th>3</th>\n",
       "      <td>eat</td>\n",
       "      <td>5</td>\n",
       "    </tr>\n",
       "    <tr>\n",
       "      <th>4</th>\n",
       "      <td>a</td>\n",
       "      <td>6</td>\n",
       "    </tr>\n",
       "    <tr>\n",
       "      <th>...</th>\n",
       "      <td>...</td>\n",
       "      <td>...</td>\n",
       "    </tr>\n",
       "    <tr>\n",
       "      <th>83</th>\n",
       "      <td>areas</td>\n",
       "      <td>1</td>\n",
       "    </tr>\n",
       "    <tr>\n",
       "      <th>84</th>\n",
       "      <td>hope</td>\n",
       "      <td>1</td>\n",
       "    </tr>\n",
       "    <tr>\n",
       "      <th>85</th>\n",
       "      <td>you</td>\n",
       "      <td>1</td>\n",
       "    </tr>\n",
       "    <tr>\n",
       "      <th>86</th>\n",
       "      <td>enjoy</td>\n",
       "      <td>1</td>\n",
       "    </tr>\n",
       "    <tr>\n",
       "      <th>87</th>\n",
       "      <td>your</td>\n",
       "      <td>1</td>\n",
       "    </tr>\n",
       "  </tbody>\n",
       "</table>\n",
       "<p>88 rows × 2 columns</p>\n",
       "</div>"
      ],
      "text/plain": [
       "     name  count\n",
       "0   three      2\n",
       "1   meals      2\n",
       "2       i     12\n",
       "3     eat      5\n",
       "4       a      6\n",
       "..    ...    ...\n",
       "83  areas      1\n",
       "84   hope      1\n",
       "85    you      1\n",
       "86  enjoy      1\n",
       "87   your      1\n",
       "\n",
       "[88 rows x 2 columns]"
      ]
     },
     "execution_count": 17,
     "metadata": {},
     "output_type": "execute_result"
    }
   ],
   "source": [
    "df"
   ]
  },
  {
   "cell_type": "code",
   "execution_count": 23,
   "id": "bb5719b1-c6c1-4d46-abb3-232459113e30",
   "metadata": {},
   "outputs": [
    {
     "data": {
      "text/html": [
       "<div>\n",
       "<style scoped>\n",
       "    .dataframe tbody tr th:only-of-type {\n",
       "        vertical-align: middle;\n",
       "    }\n",
       "\n",
       "    .dataframe tbody tr th {\n",
       "        vertical-align: top;\n",
       "    }\n",
       "\n",
       "    .dataframe thead th {\n",
       "        text-align: right;\n",
       "    }\n",
       "</style>\n",
       "<table border=\"1\" class=\"dataframe\">\n",
       "  <thead>\n",
       "    <tr style=\"text-align: right;\">\n",
       "      <th></th>\n",
       "      <th>name</th>\n",
       "      <th>count</th>\n",
       "    </tr>\n",
       "  </thead>\n",
       "  <tbody>\n",
       "    <tr>\n",
       "      <th>0</th>\n",
       "      <td>three</td>\n",
       "      <td>2</td>\n",
       "    </tr>\n",
       "  </tbody>\n",
       "</table>\n",
       "</div>"
      ],
      "text/plain": [
       "    name  count\n",
       "0  three      2"
      ]
     },
     "execution_count": 23,
     "metadata": {},
     "output_type": "execute_result"
    }
   ],
   "source": [
    "df[df[\"name\"] == \"three\"]"
   ]
  },
  {
   "cell_type": "code",
   "execution_count": 25,
   "id": "6c511c7e-2ff7-4e59-ad2e-4fa92df64141",
   "metadata": {},
   "outputs": [
    {
     "data": {
      "text/html": [
       "<div>\n",
       "<style scoped>\n",
       "    .dataframe tbody tr th:only-of-type {\n",
       "        vertical-align: middle;\n",
       "    }\n",
       "\n",
       "    .dataframe tbody tr th {\n",
       "        vertical-align: top;\n",
       "    }\n",
       "\n",
       "    .dataframe thead th {\n",
       "        text-align: right;\n",
       "    }\n",
       "</style>\n",
       "<table border=\"1\" class=\"dataframe\">\n",
       "  <thead>\n",
       "    <tr style=\"text-align: right;\">\n",
       "      <th></th>\n",
       "      <th>name</th>\n",
       "      <th>count</th>\n",
       "    </tr>\n",
       "  </thead>\n",
       "  <tbody>\n",
       "    <tr>\n",
       "      <th>0</th>\n",
       "      <td>three</td>\n",
       "      <td>2</td>\n",
       "    </tr>\n",
       "  </tbody>\n",
       "</table>\n",
       "</div>"
      ],
      "text/plain": [
       "    name  count\n",
       "0  three      2"
      ]
     },
     "execution_count": 25,
     "metadata": {},
     "output_type": "execute_result"
    }
   ],
   "source": [
    "df[df[\"name\"] == \"three\"]"
   ]
  },
  {
   "cell_type": "code",
   "execution_count": 26,
   "id": "27acd5fc-d99b-4ef2-94e4-516d4311f877",
   "metadata": {},
   "outputs": [
    {
     "data": {
      "text/plain": [
       "Index([0], dtype='int64')"
      ]
     },
     "execution_count": 26,
     "metadata": {},
     "output_type": "execute_result"
    }
   ],
   "source": [
    "df[df[\"name\"] == \"three\"].index"
   ]
  },
  {
   "cell_type": "code",
   "execution_count": 27,
   "id": "c9298308-a9a9-4324-8037-6ca212815b15",
   "metadata": {},
   "outputs": [
    {
     "data": {
      "text/html": [
       "<div>\n",
       "<style scoped>\n",
       "    .dataframe tbody tr th:only-of-type {\n",
       "        vertical-align: middle;\n",
       "    }\n",
       "\n",
       "    .dataframe tbody tr th {\n",
       "        vertical-align: top;\n",
       "    }\n",
       "\n",
       "    .dataframe thead th {\n",
       "        text-align: right;\n",
       "    }\n",
       "</style>\n",
       "<table border=\"1\" class=\"dataframe\">\n",
       "  <thead>\n",
       "    <tr style=\"text-align: right;\">\n",
       "      <th></th>\n",
       "      <th>name</th>\n",
       "      <th>count</th>\n",
       "    </tr>\n",
       "  </thead>\n",
       "  <tbody>\n",
       "    <tr>\n",
       "      <th>1</th>\n",
       "      <td>meals</td>\n",
       "      <td>2</td>\n",
       "    </tr>\n",
       "    <tr>\n",
       "      <th>2</th>\n",
       "      <td>i</td>\n",
       "      <td>12</td>\n",
       "    </tr>\n",
       "    <tr>\n",
       "      <th>3</th>\n",
       "      <td>eat</td>\n",
       "      <td>5</td>\n",
       "    </tr>\n",
       "    <tr>\n",
       "      <th>4</th>\n",
       "      <td>a</td>\n",
       "      <td>6</td>\n",
       "    </tr>\n",
       "    <tr>\n",
       "      <th>5</th>\n",
       "      <td>day</td>\n",
       "      <td>1</td>\n",
       "    </tr>\n",
       "    <tr>\n",
       "      <th>...</th>\n",
       "      <td>...</td>\n",
       "      <td>...</td>\n",
       "    </tr>\n",
       "    <tr>\n",
       "      <th>83</th>\n",
       "      <td>areas</td>\n",
       "      <td>1</td>\n",
       "    </tr>\n",
       "    <tr>\n",
       "      <th>84</th>\n",
       "      <td>hope</td>\n",
       "      <td>1</td>\n",
       "    </tr>\n",
       "    <tr>\n",
       "      <th>85</th>\n",
       "      <td>you</td>\n",
       "      <td>1</td>\n",
       "    </tr>\n",
       "    <tr>\n",
       "      <th>86</th>\n",
       "      <td>enjoy</td>\n",
       "      <td>1</td>\n",
       "    </tr>\n",
       "    <tr>\n",
       "      <th>87</th>\n",
       "      <td>your</td>\n",
       "      <td>1</td>\n",
       "    </tr>\n",
       "  </tbody>\n",
       "</table>\n",
       "<p>87 rows × 2 columns</p>\n",
       "</div>"
      ],
      "text/plain": [
       "     name  count\n",
       "1   meals      2\n",
       "2       i     12\n",
       "3     eat      5\n",
       "4       a      6\n",
       "5     day      1\n",
       "..    ...    ...\n",
       "83  areas      1\n",
       "84   hope      1\n",
       "85    you      1\n",
       "86  enjoy      1\n",
       "87   your      1\n",
       "\n",
       "[87 rows x 2 columns]"
      ]
     },
     "execution_count": 27,
     "metadata": {},
     "output_type": "execute_result"
    }
   ],
   "source": [
    "df.drop(df[df[\"name\"] == \"three\"].index)"
   ]
  },
  {
   "cell_type": "code",
   "execution_count": null,
   "id": "23b92c14-afb7-4eb1-8d62-ff6561d07b1c",
   "metadata": {},
   "outputs": [],
   "source": []
  }
 ],
 "metadata": {
  "kernelspec": {
   "display_name": "Python 3 (ipykernel)",
   "language": "python",
   "name": "python3"
  },
  "language_info": {
   "codemirror_mode": {
    "name": "ipython",
    "version": 3
   },
   "file_extension": ".py",
   "mimetype": "text/x-python",
   "name": "python",
   "nbconvert_exporter": "python",
   "pygments_lexer": "ipython3",
   "version": "3.11.6"
  }
 },
 "nbformat": 4,
 "nbformat_minor": 5
}
